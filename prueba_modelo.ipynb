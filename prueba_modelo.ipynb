{
 "cells": [
  {
   "cell_type": "code",
   "execution_count": 25,
   "metadata": {},
   "outputs": [],
   "source": [
    "#Librerias\n",
    "import joblib\n",
    "\n",
    "import pandas as pd\n",
    "\n",
    "from sklearn.feature_extraction.text import CountVectorizer\n",
    "\n",
    "from sklearn.preprocessing import StandardScaler # for standardization us\n",
    "from sklearn.metrics import accuracy_score, classification_report"
   ]
  },
  {
   "cell_type": "markdown",
   "metadata": {},
   "source": [
    "### Carga del dataframe de prueba"
   ]
  },
  {
   "cell_type": "code",
   "execution_count": 35,
   "metadata": {},
   "outputs": [],
   "source": [
    "# Carga de datos\n",
    "data = pd.read_csv(\"example_reduced.csv\") #data set reducido de prueba SIN filtrar por len"
   ]
  },
  {
   "cell_type": "code",
   "execution_count": 27,
   "metadata": {},
   "outputs": [
    {
     "name": "stdout",
     "output_type": "stream",
     "text": [
      "<class 'pandas.core.frame.DataFrame'>\n",
      "RangeIndex: 49999 entries, 0 to 49998\n",
      "Data columns (total 4 columns):\n",
      " #   Column        Non-Null Count  Dtype \n",
      "---  ------        --------------  ----- \n",
      " 0   text          49999 non-null  object\n",
      " 1   class         49999 non-null  int64 \n",
      " 2   len_text      49999 non-null  int64 \n",
      " 3   text_cleaned  49999 non-null  object\n",
      "dtypes: int64(2), object(2)\n",
      "memory usage: 1.5+ MB\n"
     ]
    }
   ],
   "source": [
    "data.info()"
   ]
  },
  {
   "cell_type": "markdown",
   "metadata": {},
   "source": [
    "### Division de X e y"
   ]
  },
  {
   "cell_type": "code",
   "execution_count": 40,
   "metadata": {},
   "outputs": [],
   "source": [
    "X = data[\"text_cleaned\"]\n",
    "y = data[\"class\"]"
   ]
  },
  {
   "cell_type": "markdown",
   "metadata": {},
   "source": [
    "### Vectorized"
   ]
  },
  {
   "cell_type": "code",
   "execution_count": 29,
   "metadata": {},
   "outputs": [],
   "source": [
    "vectorizer = joblib.load('vectorizer.pkl')"
   ]
  },
  {
   "cell_type": "code",
   "execution_count": 30,
   "metadata": {},
   "outputs": [],
   "source": [
    "text_vect = vectorizer.transform(X)"
   ]
  },
  {
   "cell_type": "markdown",
   "metadata": {},
   "source": [
    "### Standarized"
   ]
  },
  {
   "cell_type": "code",
   "execution_count": 31,
   "metadata": {},
   "outputs": [],
   "source": [
    "standardized = joblib.load('standarizer.pkl')"
   ]
  },
  {
   "cell_type": "code",
   "execution_count": 32,
   "metadata": {},
   "outputs": [],
   "source": [
    "X_scaled = standardized.transform(text_vect)"
   ]
  },
  {
   "cell_type": "code",
   "execution_count": 45,
   "metadata": {},
   "outputs": [
    {
     "data": {
      "text/plain": [
       "(49999, 404235)"
      ]
     },
     "execution_count": 45,
     "metadata": {},
     "output_type": "execute_result"
    }
   ],
   "source": [
    "X_scaled.shape"
   ]
  },
  {
   "cell_type": "markdown",
   "metadata": {},
   "source": [
    "### prueba del modelo Xgboost con el dataframe de prueba"
   ]
  },
  {
   "cell_type": "code",
   "execution_count": 43,
   "metadata": {},
   "outputs": [],
   "source": [
    "# Cargar el modelo desde el archivo .pkl\n",
    "xgboost_model_loaded = joblib.load('xgboost_model_correct.pkl')"
   ]
  },
  {
   "cell_type": "code",
   "execution_count": 44,
   "metadata": {},
   "outputs": [],
   "source": [
    "y_pred_prueba = xgboost_model_loaded.predict(X_scaled)"
   ]
  },
  {
   "cell_type": "code",
   "execution_count": 11,
   "metadata": {},
   "outputs": [],
   "source": [
    "# Evaluación con etiquetas verdaderas\n",
    "y_true_prueba = data['class']  # Obtener las etiquetas verdaderas"
   ]
  },
  {
   "cell_type": "code",
   "execution_count": 12,
   "metadata": {},
   "outputs": [],
   "source": [
    "accuracy_prueba = accuracy_score(y_true_prueba, y_pred_prueba)"
   ]
  },
  {
   "cell_type": "code",
   "execution_count": 13,
   "metadata": {},
   "outputs": [],
   "source": [
    "# Crear un diccionario de mapeo\n",
    "mapping = {0 : 'Human', 1 : 'AI'}"
   ]
  },
  {
   "cell_type": "code",
   "execution_count": 20,
   "metadata": {},
   "outputs": [],
   "source": [
    "y_true_prueba_datas = y_true_prueba.map(mapping)"
   ]
  },
  {
   "cell_type": "code",
   "execution_count": 15,
   "metadata": {},
   "outputs": [
    {
     "name": "stdout",
     "output_type": "stream",
     "text": [
      "['Human' 'Human' 'Human' ... 'Human' 'Human' 'AI']\n"
     ]
    }
   ],
   "source": [
    "import numpy as np\n",
    "\n",
    "\n",
    "# Usar numpy.where para mapear\n",
    "y_pred_mapeado = np.where(y_pred_prueba == 0, mapping[0], mapping[1])\n",
    "\n",
    "print(y_pred_mapeado)\n"
   ]
  },
  {
   "cell_type": "code",
   "execution_count": 16,
   "metadata": {},
   "outputs": [
    {
     "data": {
      "text/plain": [
       "array([0, 0, 0, ..., 0, 0, 1])"
      ]
     },
     "execution_count": 16,
     "metadata": {},
     "output_type": "execute_result"
    }
   ],
   "source": [
    "y_pred_prueba"
   ]
  },
  {
   "cell_type": "code",
   "execution_count": 21,
   "metadata": {},
   "outputs": [],
   "source": [
    "results_df = pd.DataFrame({\n",
    "    'Text': X,\n",
    "    'Generated by': y_true_prueba_datas,\n",
    "    'Prediction': y_pred_mapeado,\n",
    "    'Correct prediction': y_pred_prueba == y\n",
    "})"
   ]
  },
  {
   "cell_type": "code",
   "execution_count": 22,
   "metadata": {},
   "outputs": [
    {
     "data": {
      "text/html": [
       "<div>\n",
       "<style scoped>\n",
       "    .dataframe tbody tr th:only-of-type {\n",
       "        vertical-align: middle;\n",
       "    }\n",
       "\n",
       "    .dataframe tbody tr th {\n",
       "        vertical-align: top;\n",
       "    }\n",
       "\n",
       "    .dataframe thead th {\n",
       "        text-align: right;\n",
       "    }\n",
       "</style>\n",
       "<table border=\"1\" class=\"dataframe\">\n",
       "  <thead>\n",
       "    <tr style=\"text-align: right;\">\n",
       "      <th></th>\n",
       "      <th>Text</th>\n",
       "      <th>Generated by</th>\n",
       "      <th>Prediction</th>\n",
       "      <th>Correct prediction</th>\n",
       "    </tr>\n",
       "  </thead>\n",
       "  <tbody>\n",
       "    <tr>\n",
       "      <th>0</th>\n",
       "      <td>idea driverless car appeal practic modern day ...</td>\n",
       "      <td>Human</td>\n",
       "      <td>Human</td>\n",
       "      <td>True</td>\n",
       "    </tr>\n",
       "    <tr>\n",
       "      <th>1</th>\n",
       "      <td>dear princip johnson write idea requir student...</td>\n",
       "      <td>AI</td>\n",
       "      <td>Human</td>\n",
       "      <td>False</td>\n",
       "    </tr>\n",
       "    <tr>\n",
       "      <th>2</th>\n",
       "      <td>dear princip talk student school john fn commu...</td>\n",
       "      <td>Human</td>\n",
       "      <td>Human</td>\n",
       "      <td>True</td>\n",
       "    </tr>\n",
       "    <tr>\n",
       "      <th>3</th>\n",
       "      <td>video game big impact peopl behavior peopl thi...</td>\n",
       "      <td>AI</td>\n",
       "      <td>Human</td>\n",
       "      <td>False</td>\n",
       "    </tr>\n",
       "    <tr>\n",
       "      <th>4</th>\n",
       "      <td>deer senat db write express perspect ongo deba...</td>\n",
       "      <td>AI</td>\n",
       "      <td>Human</td>\n",
       "      <td>False</td>\n",
       "    </tr>\n",
       "    <tr>\n",
       "      <th>5</th>\n",
       "      <td>say goe happi typic use say action improv situ...</td>\n",
       "      <td>Human</td>\n",
       "      <td>Human</td>\n",
       "      <td>True</td>\n",
       "    </tr>\n",
       "    <tr>\n",
       "      <th>6</th>\n",
       "      <td>advantag limit car usag evid passag provid hig...</td>\n",
       "      <td>AI</td>\n",
       "      <td>Human</td>\n",
       "      <td>False</td>\n",
       "    </tr>\n",
       "    <tr>\n",
       "      <th>7</th>\n",
       "      <td>ix tough situat know get help ox hardest thing...</td>\n",
       "      <td>Human</td>\n",
       "      <td>Human</td>\n",
       "      <td>True</td>\n",
       "    </tr>\n",
       "    <tr>\n",
       "      <th>8</th>\n",
       "      <td>consid finish high school earli student want s...</td>\n",
       "      <td>AI</td>\n",
       "      <td>Human</td>\n",
       "      <td>False</td>\n",
       "    </tr>\n",
       "    <tr>\n",
       "      <th>9</th>\n",
       "      <td>technolog break day ws use tell feel help way ...</td>\n",
       "      <td>Human</td>\n",
       "      <td>Human</td>\n",
       "      <td>True</td>\n",
       "    </tr>\n",
       "    <tr>\n",
       "      <th>10</th>\n",
       "      <td>agre thoma jefferson quot determin idl wonder ...</td>\n",
       "      <td>AI</td>\n",
       "      <td>Human</td>\n",
       "      <td>False</td>\n",
       "    </tr>\n",
       "    <tr>\n",
       "      <th>11</th>\n",
       "      <td>peopl summer vacat time relax leisur opportun ...</td>\n",
       "      <td>AI</td>\n",
       "      <td>Human</td>\n",
       "      <td>False</td>\n",
       "    </tr>\n",
       "    <tr>\n",
       "      <th>12</th>\n",
       "      <td>passag set present interest relev articl limit...</td>\n",
       "      <td>AI</td>\n",
       "      <td>AI</td>\n",
       "      <td>True</td>\n",
       "    </tr>\n",
       "    <tr>\n",
       "      <th>13</th>\n",
       "      <td>dear princip student reli sport push high scho...</td>\n",
       "      <td>Human</td>\n",
       "      <td>Human</td>\n",
       "      <td>True</td>\n",
       "    </tr>\n",
       "    <tr>\n",
       "      <th>14</th>\n",
       "      <td>dear particip think join seago cowboy hello lu...</td>\n",
       "      <td>Human</td>\n",
       "      <td>AI</td>\n",
       "      <td>False</td>\n",
       "    </tr>\n",
       "    <tr>\n",
       "      <th>15</th>\n",
       "      <td>search evid life planet especi mar long subjec...</td>\n",
       "      <td>AI</td>\n",
       "      <td>Human</td>\n",
       "      <td>False</td>\n",
       "    </tr>\n",
       "    <tr>\n",
       "      <th>16</th>\n",
       "      <td>want cool town citi help peopl time sea go cow...</td>\n",
       "      <td>Human</td>\n",
       "      <td>AI</td>\n",
       "      <td>False</td>\n",
       "    </tr>\n",
       "    <tr>\n",
       "      <th>17</th>\n",
       "      <td>doubt electron dictionari dictionari increasin...</td>\n",
       "      <td>AI</td>\n",
       "      <td>AI</td>\n",
       "      <td>True</td>\n",
       "    </tr>\n",
       "    <tr>\n",
       "      <th>18</th>\n",
       "      <td>face mar fascin phenomenon intrigu peopl world...</td>\n",
       "      <td>AI</td>\n",
       "      <td>Human</td>\n",
       "      <td>False</td>\n",
       "    </tr>\n",
       "    <tr>\n",
       "      <th>19</th>\n",
       "      <td>luke work time job groceri store bank friend i...</td>\n",
       "      <td>Human</td>\n",
       "      <td>Human</td>\n",
       "      <td>True</td>\n",
       "    </tr>\n",
       "    <tr>\n",
       "      <th>20</th>\n",
       "      <td>technolog detect human emot hold promis facial...</td>\n",
       "      <td>AI</td>\n",
       "      <td>Human</td>\n",
       "      <td>False</td>\n",
       "    </tr>\n",
       "    <tr>\n",
       "      <th>21</th>\n",
       "      <td>tue debat best enhanc tue educ rage potenti so...</td>\n",
       "      <td>AI</td>\n",
       "      <td>Human</td>\n",
       "      <td>False</td>\n",
       "    </tr>\n",
       "    <tr>\n",
       "      <th>22</th>\n",
       "      <td>eighth grade student believ listen elder advic...</td>\n",
       "      <td>AI</td>\n",
       "      <td>AI</td>\n",
       "      <td>True</td>\n",
       "    </tr>\n",
       "    <tr>\n",
       "      <th>23</th>\n",
       "      <td>elector colleg essenti unit state presidenti e...</td>\n",
       "      <td>AI</td>\n",
       "      <td>Human</td>\n",
       "      <td>False</td>\n",
       "    </tr>\n",
       "    <tr>\n",
       "      <th>24</th>\n",
       "      <td>digit age brought signific shift way inform ac...</td>\n",
       "      <td>AI</td>\n",
       "      <td>AI</td>\n",
       "      <td>True</td>\n",
       "    </tr>\n",
       "    <tr>\n",
       "      <th>25</th>\n",
       "      <td>eighth grade student believ import learn mista...</td>\n",
       "      <td>AI</td>\n",
       "      <td>AI</td>\n",
       "      <td>True</td>\n",
       "    </tr>\n",
       "    <tr>\n",
       "      <th>26</th>\n",
       "      <td>debat reduc work hour school teacher caus cont...</td>\n",
       "      <td>AI</td>\n",
       "      <td>Human</td>\n",
       "      <td>False</td>\n",
       "    </tr>\n",
       "    <tr>\n",
       "      <th>27</th>\n",
       "      <td>wholeheartedli agre believ children taught coo...</td>\n",
       "      <td>AI</td>\n",
       "      <td>AI</td>\n",
       "      <td>True</td>\n",
       "    </tr>\n",
       "    <tr>\n",
       "      <th>28</th>\n",
       "      <td>dear princip think abl play sport averag highe...</td>\n",
       "      <td>Human</td>\n",
       "      <td>AI</td>\n",
       "      <td>False</td>\n",
       "    </tr>\n",
       "    <tr>\n",
       "      <th>29</th>\n",
       "      <td>text drive text drive common lot peopl day pro...</td>\n",
       "      <td>Human</td>\n",
       "      <td>Human</td>\n",
       "      <td>True</td>\n",
       "    </tr>\n",
       "  </tbody>\n",
       "</table>\n",
       "</div>"
      ],
      "text/plain": [
       "                                                 Text Generated by Prediction  \\\n",
       "0   idea driverless car appeal practic modern day ...        Human      Human   \n",
       "1   dear princip johnson write idea requir student...           AI      Human   \n",
       "2   dear princip talk student school john fn commu...        Human      Human   \n",
       "3   video game big impact peopl behavior peopl thi...           AI      Human   \n",
       "4   deer senat db write express perspect ongo deba...           AI      Human   \n",
       "5   say goe happi typic use say action improv situ...        Human      Human   \n",
       "6   advantag limit car usag evid passag provid hig...           AI      Human   \n",
       "7   ix tough situat know get help ox hardest thing...        Human      Human   \n",
       "8   consid finish high school earli student want s...           AI      Human   \n",
       "9   technolog break day ws use tell feel help way ...        Human      Human   \n",
       "10  agre thoma jefferson quot determin idl wonder ...           AI      Human   \n",
       "11  peopl summer vacat time relax leisur opportun ...           AI      Human   \n",
       "12  passag set present interest relev articl limit...           AI         AI   \n",
       "13  dear princip student reli sport push high scho...        Human      Human   \n",
       "14  dear particip think join seago cowboy hello lu...        Human         AI   \n",
       "15  search evid life planet especi mar long subjec...           AI      Human   \n",
       "16  want cool town citi help peopl time sea go cow...        Human         AI   \n",
       "17  doubt electron dictionari dictionari increasin...           AI         AI   \n",
       "18  face mar fascin phenomenon intrigu peopl world...           AI      Human   \n",
       "19  luke work time job groceri store bank friend i...        Human      Human   \n",
       "20  technolog detect human emot hold promis facial...           AI      Human   \n",
       "21  tue debat best enhanc tue educ rage potenti so...           AI      Human   \n",
       "22  eighth grade student believ listen elder advic...           AI         AI   \n",
       "23  elector colleg essenti unit state presidenti e...           AI      Human   \n",
       "24  digit age brought signific shift way inform ac...           AI         AI   \n",
       "25  eighth grade student believ import learn mista...           AI         AI   \n",
       "26  debat reduc work hour school teacher caus cont...           AI      Human   \n",
       "27  wholeheartedli agre believ children taught coo...           AI         AI   \n",
       "28  dear princip think abl play sport averag highe...        Human         AI   \n",
       "29  text drive text drive common lot peopl day pro...        Human      Human   \n",
       "\n",
       "    Correct prediction  \n",
       "0                 True  \n",
       "1                False  \n",
       "2                 True  \n",
       "3                False  \n",
       "4                False  \n",
       "5                 True  \n",
       "6                False  \n",
       "7                 True  \n",
       "8                False  \n",
       "9                 True  \n",
       "10               False  \n",
       "11               False  \n",
       "12                True  \n",
       "13                True  \n",
       "14               False  \n",
       "15               False  \n",
       "16               False  \n",
       "17                True  \n",
       "18               False  \n",
       "19                True  \n",
       "20               False  \n",
       "21               False  \n",
       "22                True  \n",
       "23               False  \n",
       "24                True  \n",
       "25                True  \n",
       "26               False  \n",
       "27                True  \n",
       "28               False  \n",
       "29                True  "
      ]
     },
     "execution_count": 22,
     "metadata": {},
     "output_type": "execute_result"
    }
   ],
   "source": [
    "results_df.head(30)"
   ]
  },
  {
   "cell_type": "code",
   "execution_count": 19,
   "metadata": {},
   "outputs": [
    {
     "name": "stdout",
     "output_type": "stream",
     "text": [
      "Precisión del modelo en el dataframe de prueba: 0.6155723114462289\n",
      "\n",
      "Informe de clasificación para el dataframe de prueba:\n",
      "               precision    recall  f1-score   support\n",
      "\n",
      "           0       0.58      0.81      0.68     25112\n",
      "           1       0.69      0.42      0.52     24887\n",
      "\n",
      "    accuracy                           0.62     49999\n",
      "   macro avg       0.64      0.61      0.60     49999\n",
      "weighted avg       0.64      0.62      0.60     49999\n",
      "\n"
     ]
    }
   ],
   "source": [
    "print(\"Precisión del modelo en el dataframe de prueba:\", accuracy_prueba)\n",
    "print(\"\\nInforme de clasificación para el dataframe de prueba:\\n\", classification_report(y_true_prueba, y_pred_prueba))"
   ]
  }
 ],
 "metadata": {
  "kernelspec": {
   "display_name": "final_project",
   "language": "python",
   "name": "python3"
  },
  "language_info": {
   "codemirror_mode": {
    "name": "ipython",
    "version": 3
   },
   "file_extension": ".py",
   "mimetype": "text/x-python",
   "name": "python",
   "nbconvert_exporter": "python",
   "pygments_lexer": "ipython3",
   "version": "3.11.10"
  }
 },
 "nbformat": 4,
 "nbformat_minor": 2
}
