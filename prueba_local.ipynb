{
 "cells": [
  {
   "cell_type": "code",
   "execution_count": 1,
   "metadata": {},
   "outputs": [],
   "source": [
    "\n",
    "import pandas as pd\n",
    "import joblib\n",
    "\n",
    "# Cargar el modelo entrenado y los objetos de preprocesamiento\n",
    "loaded_model = joblib.load('xgboost_model_correct.pkl')\n",
    "loaded_vectorizer = joblib.load('vectorizer.pkl')\n",
    "loaded_standarizer = joblib.load('standarizer.pkl')"
   ]
  },
  {
   "cell_type": "code",
   "execution_count": 4,
   "metadata": {},
   "outputs": [],
   "source": [
    "# Recoger el input del usuario\n",
    "user_input = ''' \"Derrick George Sherwin (16 April 1936 – 17 October 2018) was an English television producer, writer, story editor and actor. After beginning his career in the theatre, Sherwin became an actor in television before moving into writing. He became the story editor on Doctor Who and, as the producer of the series in 1969, he oversaw the transition from black-and-white to colour by producing Patrick Troughton's final story and Jon Pertwee's first. He also co-produced Paul Temple for the BBC. Early life\\nSherwin began his career in the theatre and worked as a junior set designer, scenic artist, scene shifter, stage manager and lighting designer. He also spent two years of National Service in the Royal Air Force. Following this, Sherwin established himself as an actor in theatre, films and television. While still working as an actor, Sherwin also began work as a freelance writer, contributing scripts to series such as Crossroads and Z-Cars.\"\n",
    "'''"
   ]
  },
  {
   "cell_type": "code",
   "execution_count": 5,
   "metadata": {},
   "outputs": [
    {
     "data": {
      "text/plain": [
       "array([0])"
      ]
     },
     "execution_count": 5,
     "metadata": {},
     "output_type": "execute_result"
    }
   ],
   "source": [
    "\n",
    "# Vectorizar el texto ingresado por el usuario\n",
    "text_vectorized = loaded_vectorizer.transform([user_input])\n",
    "\n",
    "# Estandarizar los datos vectorizados\n",
    "text_standardized = loaded_standarizer.transform(text_vectorized)\n",
    "\n",
    "# Realizar la predicción con el modelo cargado\n",
    "prediction = loaded_model.predict(text_standardized)\n",
    "\n",
    "prediction"
   ]
  }
 ],
 "metadata": {
  "kernelspec": {
   "display_name": "final_project",
   "language": "python",
   "name": "python3"
  },
  "language_info": {
   "codemirror_mode": {
    "name": "ipython",
    "version": 3
   },
   "file_extension": ".py",
   "mimetype": "text/x-python",
   "name": "python",
   "nbconvert_exporter": "python",
   "pygments_lexer": "ipython3",
   "version": "3.11.10"
  }
 },
 "nbformat": 4,
 "nbformat_minor": 2
}
