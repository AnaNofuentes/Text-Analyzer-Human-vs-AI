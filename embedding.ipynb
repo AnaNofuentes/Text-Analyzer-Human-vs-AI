{
 "cells": [
  {
   "cell_type": "code",
   "execution_count": 1,
   "metadata": {},
   "outputs": [
    {
     "name": "stderr",
     "output_type": "stream",
     "text": [
      "c:\\Users\\anano\\anaconda3\\envs\\final_project\\Lib\\site-packages\\sentence_transformers\\cross_encoder\\CrossEncoder.py:13: TqdmExperimentalWarning: Using `tqdm.autonotebook.tqdm` in notebook mode. Use `tqdm.tqdm` instead to force console mode (e.g. in jupyter console)\n",
      "  from tqdm.autonotebook import tqdm, trange\n"
     ]
    }
   ],
   "source": [
    "import pandas as pd\n",
    "import re\n",
    "from sklearn.model_selection import train_test_split\n",
    "from sentence_transformers import SentenceTransformer"
   ]
  },
  {
   "cell_type": "code",
   "execution_count": 2,
   "metadata": {},
   "outputs": [],
   "source": [
    "# Cargar el dataset\n",
    "df_complete = pd.read_csv('complete_without_outliers.csv')"
   ]
  },
  {
   "cell_type": "code",
   "execution_count": 3,
   "metadata": {},
   "outputs": [],
   "source": [
    "# Función de limpieza básica\n",
    "def limpieza_basica(text):\n",
    "    if isinstance(text, str):\n",
    "        text = re.sub(r'\\s+', ' ', text)  # Eliminar saltos de línea y tabs\n",
    "        text = text.strip()  # Eliminar espacios al inicio y final\n",
    "        return text.lower()  # Convertir a minúsculas\n",
    "    else:\n",
    "        return None"
   ]
  },
  {
   "cell_type": "code",
   "execution_count": 5,
   "metadata": {},
   "outputs": [],
   "source": [
    "# Aplicar limpieza al texto\n",
    "df_complete['text_cleaned'] = df_complete['text'].apply(limpieza_basica)"
   ]
  },
  {
   "cell_type": "code",
   "execution_count": 6,
   "metadata": {},
   "outputs": [],
   "source": [
    "df_sample, _ = train_test_split(df_complete, train_size=2000, stratify=df_complete['class'], random_state=42)"
   ]
  },
  {
   "cell_type": "code",
   "execution_count": 7,
   "metadata": {},
   "outputs": [],
   "source": [
    "# Definir las etiquetas y los textos\n",
    "#texts = df_sample['text_cleaned'].tolist()\n",
    "#labels = df_sample['class'].tolist() "
   ]
  },
  {
   "cell_type": "code",
   "execution_count": 12,
   "metadata": {},
   "outputs": [],
   "source": [
    "texts = df_sample['text_cleaned']\n",
    "labels = df_sample['class']"
   ]
  },
  {
   "cell_type": "code",
   "execution_count": 15,
   "metadata": {},
   "outputs": [],
   "source": [
    "# Dividir el conjunto de datos en train y test\n",
    "train_texts, test_texts, train_labels, test_labels = train_test_split(texts, labels, test_size=0.2, random_state=42)"
   ]
  },
  {
   "cell_type": "code",
   "execution_count": 16,
   "metadata": {},
   "outputs": [],
   "source": [
    "# Cargar el modelo de embeddings\n",
    "model = SentenceTransformer('all-MiniLM-L6-v2')"
   ]
  },
  {
   "cell_type": "code",
   "execution_count": 17,
   "metadata": {},
   "outputs": [],
   "source": [
    "# Función para obtener embeddings\n",
    "def get_embeddings(text):\n",
    "    if text:  # Asegurarse de que no sea None\n",
    "        return model.encode(text)\n",
    "    else:\n",
    "        return None"
   ]
  },
  {
   "cell_type": "code",
   "execution_count": 19,
   "metadata": {},
   "outputs": [],
   "source": [
    "# Aplicar la función a la columna de texto y almacenar los embeddings en una nueva columna\n",
    "df_sample['Embeddings'] = df_sample['text_cleaned'].apply(get_embeddings)"
   ]
  },
  {
   "cell_type": "code",
   "execution_count": 22,
   "metadata": {},
   "outputs": [
    {
     "name": "stdout",
     "output_type": "stream",
     "text": [
      "                                             text_cleaned  \\\n",
      "294978  hpe service activator is a service provisionin...   \n",
      "143108  avalon or group avalon was a band consisting o...   \n",
      "141836  due south is a canadian crime comedy drama tel...   \n",
      "189217  gretchen jones is an american fashion designer...   \n",
      "34583   silverstone's poison frog (ameerega silverston...   \n",
      "\n",
      "                                               Embeddings  \n",
      "294978  [-0.10829187, -0.08002075, -0.036951497, -0.11...  \n",
      "143108  [0.04930241, -0.055457503, -0.07331795, -0.076...  \n",
      "141836  [-0.06276055, -0.088093266, 0.018262984, -0.04...  \n",
      "189217  [-0.10008263, 0.0064794947, -0.09542956, 0.010...  \n",
      "34583   [0.020429071, -0.006813759, 0.057907984, -0.00...  \n"
     ]
    }
   ],
   "source": [
    "# Mostrar los embeddings\n",
    "print(df_sample[['text_cleaned', 'Embeddings']].head())  # Muestra los primeros registros con sus embeddings"
   ]
  },
  {
   "cell_type": "code",
   "execution_count": 23,
   "metadata": {},
   "outputs": [],
   "source": [
    "# Función de limpieza básica\n",
    "def limpieza_basica(text):\n",
    "    if isinstance(text, str):\n",
    "        text = re.sub(r'\\s+', ' ', text)  # Eliminar saltos de línea y tabs\n",
    "        text = text.strip()  # Eliminar espacios al inicio y final\n",
    "        return text.lower()  # Convertir a minúsculas\n",
    "    else:\n",
    "        return None"
   ]
  },
  {
   "cell_type": "code",
   "execution_count": 24,
   "metadata": {},
   "outputs": [],
   "source": [
    "# Aplicar limpieza al texto\n",
    "df_sample['text_cleaned'] = df_sample['text'].apply(limpieza_basica)"
   ]
  },
  {
   "cell_type": "code",
   "execution_count": 27,
   "metadata": {},
   "outputs": [],
   "source": [
    "# Definir las etiquetas y los textos\n",
    "texts = df_complete['text_cleaned'].tolist()\n",
    "labels = df_complete['class'].tolist()  "
   ]
  },
  {
   "cell_type": "code",
   "execution_count": 28,
   "metadata": {},
   "outputs": [],
   "source": [
    "# Dividir el conjunto de datos en train y test\n",
    "train_texts, test_texts, train_labels, test_labels = train_test_split(texts, labels, test_size=0.2, random_state=42)"
   ]
  },
  {
   "cell_type": "code",
   "execution_count": 29,
   "metadata": {},
   "outputs": [
    {
     "name": "stdout",
     "output_type": "stream",
     "text": [
      "[-2.65024435e-02  1.71470940e-02  1.31286951e-02 -1.56637526e-03\n",
      " -2.67034061e-02  8.12192634e-02 -1.14679560e-02  3.97442747e-03\n",
      "  4.83105108e-02 -4.21296358e-02  4.52797431e-05  1.93351414e-02\n",
      "  3.34629826e-02 -6.32607902e-04 -2.36528311e-02  3.27744335e-02\n",
      "  3.59263271e-02  7.00960308e-02  3.94431390e-02 -3.98232695e-03\n",
      "  9.74113420e-02  2.16303207e-02 -2.28917273e-03  4.48175631e-02\n",
      "  1.64768528e-02  6.07070001e-03 -1.80506408e-02  7.08187968e-02\n",
      " -6.11066411e-04 -7.35926926e-02  8.22000380e-04  6.28694752e-03\n",
      "  3.42395455e-02  1.78526733e-02 -1.89285204e-02  4.10691276e-02\n",
      " -1.85888279e-02  3.78940045e-03 -5.54763749e-02  4.23105583e-02\n",
      " -5.39671332e-02  2.02679839e-02 -5.14474809e-02 -2.54189372e-02\n",
      "  6.95178658e-02 -8.17556009e-02 -6.29748255e-02  3.81914563e-02\n",
      " -2.72701476e-02 -2.60062832e-02 -1.06740572e-01 -2.95120236e-02\n",
      " -7.26294667e-02  1.90756060e-02  3.29637853e-03 -9.23274737e-03\n",
      " -2.26643737e-02 -3.61107476e-02  3.14595476e-02 -5.97650930e-03\n",
      " -1.59684904e-02 -2.40589697e-02  3.51179652e-02  2.95298677e-02\n",
      " -2.10162578e-03 -3.20057087e-02  5.95842600e-02  7.50404298e-02\n",
      " -4.03944328e-02  7.82734305e-02  4.32282574e-02 -2.00136323e-02\n",
      "  1.20712109e-02  4.74098437e-02 -5.80101907e-02  4.86998707e-02\n",
      " -5.54914102e-02 -2.04240400e-02  2.51633003e-02 -6.41110167e-02\n",
      "  1.19907036e-02 -1.18117789e-02  1.64684579e-02 -5.94489127e-02\n",
      "  3.70589495e-02  3.15878056e-02  3.66819315e-02  5.64949885e-02\n",
      " -1.07806120e-02  5.70329875e-02 -4.24099751e-02 -3.63518856e-02\n",
      " -5.43782068e-03  2.44403705e-02 -2.85485182e-02 -1.25184944e-02\n",
      "  3.66643183e-02 -3.65881808e-02  9.10879746e-02 -3.46533558e-03\n",
      "  6.41092062e-02  3.07172034e-02  7.97649920e-02 -2.55321600e-02\n",
      "  4.67676995e-03 -3.07995081e-02  6.29272982e-02 -6.93084821e-02\n",
      "  1.64757599e-03 -3.01292744e-02 -5.17777689e-02 -9.32699591e-02\n",
      " -7.51558170e-02 -7.61018693e-02 -5.26771434e-02 -9.06135887e-02\n",
      "  9.00896788e-02 -6.12612814e-02 -8.34316295e-03  6.58718944e-02\n",
      "  1.35457460e-02 -5.93497278e-03 -6.50536455e-03 -2.10253447e-02\n",
      "  1.54364286e-02 -6.59154952e-02  1.75608564e-02  4.58785343e-34\n",
      " -9.39835049e-03 -7.14785457e-02 -1.79778971e-02  9.28903595e-02\n",
      "  2.72159595e-02  4.08603176e-02 -7.47653618e-02  8.74629151e-03\n",
      " -6.92542344e-02 -5.84625117e-02 -9.58003029e-02  8.76675919e-02\n",
      " -3.71423401e-02  1.22055165e-01  1.02655180e-01 -4.09318171e-02\n",
      " -1.73943546e-02  3.20582390e-02  6.46765307e-02 -4.19523977e-02\n",
      " -9.74980593e-02  5.30764274e-02  6.28312165e-03 -1.63227860e-02\n",
      " -5.07759526e-02  1.10074461e-01  1.55496504e-02 -1.27944589e-01\n",
      " -1.21966176e-01  1.71819609e-02 -6.16870448e-02 -2.82443184e-02\n",
      "  3.12167201e-02  2.28184726e-04  4.41218773e-03 -1.53420111e-02\n",
      "  3.45621258e-02  6.83029741e-02  3.35525051e-02 -2.59254612e-02\n",
      "  7.58257043e-03 -1.32841617e-02  4.91877692e-03 -3.93403247e-02\n",
      "  1.16770975e-02  9.12972260e-03  6.94388002e-02  1.93345118e-02\n",
      "  8.22146982e-02 -3.52985263e-02 -2.06218623e-02 -3.03402897e-02\n",
      " -7.47997919e-03 -3.93460542e-02  7.12257475e-02  1.58694014e-02\n",
      " -6.09843768e-02  3.36771794e-02  2.73479726e-02 -6.70327470e-02\n",
      "  2.04679696e-03  6.85284436e-02 -1.83295663e-02 -5.37988171e-02\n",
      "  4.39612940e-02 -9.23463143e-03  4.71878313e-02 -4.01234515e-02\n",
      "  5.31083643e-02  1.04678452e-01 -3.31618227e-02 -1.27938557e-02\n",
      " -1.34822475e-02 -1.55825410e-02 -8.20234269e-02  5.46706058e-02\n",
      " -8.10886472e-02 -2.94004045e-02 -4.51037623e-02  8.48237276e-02\n",
      " -1.14943601e-01 -1.23343959e-01  3.13810147e-02 -7.16237873e-02\n",
      " -8.97920318e-03  5.27722500e-02  1.75328664e-02 -1.93145103e-03\n",
      "  6.62298724e-02  8.41843635e-02 -1.95138585e-02  2.71717855e-03\n",
      " -3.52644697e-02 -5.70843592e-02  1.05618417e-01 -3.64394175e-33\n",
      " -4.16626036e-02  7.22025195e-03 -2.40173526e-02  3.98907550e-02\n",
      " -3.94935049e-02  7.80563876e-02 -9.34944004e-02  7.34509304e-02\n",
      " -1.14338204e-01 -5.37515394e-02 -1.04588255e-01 -4.88954969e-02\n",
      "  1.40407339e-01 -8.74508247e-02 -3.90531272e-02  3.29456367e-02\n",
      " -3.81103307e-02 -1.36692123e-02 -6.70759231e-02  8.25552922e-03\n",
      " -2.39801102e-05 -3.83662875e-04  1.33468891e-02  6.39209747e-02\n",
      "  8.23307782e-02  4.47303094e-02 -1.45880990e-02  4.74083535e-02\n",
      " -7.96468928e-02 -5.33829108e-02  6.38314933e-02 -1.21321470e-01\n",
      "  4.89365719e-02 -9.53303650e-03 -5.09887040e-02  6.99740872e-02\n",
      "  8.20882991e-02  3.81206088e-02  1.62510034e-02  5.58283180e-02\n",
      "  5.79204336e-02  7.89939612e-02 -4.95859645e-02 -3.13404836e-02\n",
      " -2.98411725e-03  1.57503001e-02 -6.23220988e-02 -7.37881511e-02\n",
      "  4.29993235e-02 -1.67948045e-02  1.57381501e-02 -9.24156699e-03\n",
      " -6.58581406e-02 -1.45567069e-02  4.28915583e-02 -9.60027948e-02\n",
      " -4.60668355e-02 -7.13576749e-02 -4.76439707e-02  4.56502177e-02\n",
      "  3.17882895e-02 -2.31104363e-02 -5.77221392e-04 -7.47969151e-02\n",
      "  2.40289066e-02 -7.19263628e-02 -7.64376968e-02  3.28117646e-02\n",
      " -5.98044954e-02  5.31605892e-02  8.67373124e-02 -3.87266427e-02\n",
      " -8.96201059e-02  1.99704804e-02 -3.09344269e-02  6.66761817e-03\n",
      " -2.97672357e-02  1.13776036e-01 -1.52768604e-02 -6.23499714e-02\n",
      "  4.83077392e-02 -4.38897125e-03  1.69311482e-02  3.77406701e-02\n",
      "  4.81497273e-02  2.92748157e-02 -1.54868867e-02  9.88461776e-04\n",
      "  3.14699369e-03  1.28863659e-02  1.00277223e-01  2.97211446e-02\n",
      " -5.95650785e-02  7.51881003e-02  1.56814663e-03 -2.41514204e-08\n",
      " -1.21094817e-02 -7.36341402e-02 -1.10259401e-02 -2.93906033e-02\n",
      "  2.23644208e-02 -3.23947445e-02 -7.13026384e-03 -1.00758644e-02\n",
      " -3.06259152e-02  1.85040142e-02  1.03772089e-01 -4.26416323e-02\n",
      " -6.76743314e-02  4.68572006e-02  4.56764139e-02  1.44408504e-02\n",
      "  3.46483737e-02  4.70335446e-02  4.75697368e-02 -9.57246963e-03\n",
      "  8.61924291e-02  1.52546009e-02 -7.19411001e-02 -7.73595646e-02\n",
      " -6.26447573e-02  3.15179005e-02 -5.78980446e-02 -7.90971369e-02\n",
      "  5.99492341e-03 -1.39126247e-02 -3.54254358e-02  7.98181593e-02\n",
      " -6.64076433e-02 -1.64024159e-02 -3.60805131e-02  1.01867281e-02\n",
      "  2.94073541e-02 -3.13206539e-02 -8.38916898e-02 -1.52056664e-02\n",
      "  1.16671257e-01  1.99660044e-02 -3.41104381e-02 -5.76337278e-02\n",
      "  7.02258945e-02 -4.46897596e-02  3.74564976e-02 -3.41084898e-02\n",
      "  1.31527511e-02  4.90562245e-02 -2.24144403e-02 -2.83784941e-02\n",
      "  3.24600004e-02 -2.04396304e-02  8.79763276e-04 -3.91699485e-02\n",
      "  7.50135211e-03  2.66794078e-02 -1.34308357e-02 -3.19749266e-02\n",
      "  1.60237439e-02  6.29995540e-02  8.43391567e-02 -7.54313497e-03]\n",
      "Dimensiones del embedding: 384\n"
     ]
    }
   ],
   "source": [
    "from sentence_transformers import SentenceTransformer\n",
    "\n",
    "# Cargar el modelo de embeddings\n",
    "model = SentenceTransformer('all-MiniLM-L6-v2')\n",
    "\n",
    "# Texto que queremos transformar en embeddings\n",
    "texto = \"Este es un ejemplo de cómo generar embeddings de un texto.\"\n",
    "\n",
    "# Generar los embeddings\n",
    "embeddings = model.encode(texto)\n",
    "\n",
    "# Mostrar los embeddings\n",
    "print(embeddings)\n",
    "print(f\"Dimensiones del embedding: {len(embeddings)}\")"
   ]
  },
  {
   "cell_type": "code",
   "execution_count": null,
   "metadata": {},
   "outputs": [],
   "source": [
    "# Aplicar la función a la columna de texto y almacenar los embeddings en una sola columna\n",
    "df_sample['Embeddings'] = df_sample['text_cleaned'].apply(get_embeddings)"
   ]
  },
  {
   "cell_type": "code",
   "execution_count": null,
   "metadata": {},
   "outputs": [],
   "source": [
    "# Guardar el DataFrame con embeddings\n",
    "df_complete.to_csv('complete_with_embeddings.csv', index=False)"
   ]
  }
 ],
 "metadata": {
  "kernelspec": {
   "display_name": "final_project",
   "language": "python",
   "name": "python3"
  },
  "language_info": {
   "codemirror_mode": {
    "name": "ipython",
    "version": 3
   },
   "file_extension": ".py",
   "mimetype": "text/x-python",
   "name": "python",
   "nbconvert_exporter": "python",
   "pygments_lexer": "ipython3",
   "version": "3.11.10"
  }
 },
 "nbformat": 4,
 "nbformat_minor": 2
}
